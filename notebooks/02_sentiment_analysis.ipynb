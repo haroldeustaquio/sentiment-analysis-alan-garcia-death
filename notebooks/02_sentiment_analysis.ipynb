{
 "cells": [
  {
   "cell_type": "markdown",
   "id": "ee2b1505",
   "metadata": {},
   "source": [
    "### Loading libraries"
   ]
  },
  {
   "cell_type": "code",
   "execution_count": null,
   "id": "3f01981e",
   "metadata": {},
   "outputs": [],
   "source": [
    "import pandas as pd\n",
    "import numpy as np\n",
    "import emoji\n",
    "from importlib import reload\n",
    "\n",
    "import src.text_processing\n",
    "reload(src.text_processing)\n",
    "\n",
    "from src.text_processing import TextCleaner, EmojiConversion, SentimentAnalysis"
   ]
  },
  {
   "cell_type": "markdown",
   "id": "825623ee",
   "metadata": {},
   "source": [
    "### Loading data"
   ]
  },
  {
   "cell_type": "code",
   "execution_count": null,
   "id": "3451ea33",
   "metadata": {},
   "outputs": [],
   "source": [
    "df = pd.read_csv('../data/processed/data_cleaned.csv', encoding='utf-8')"
   ]
  },
  {
   "cell_type": "markdown",
   "id": "bc1cdc35",
   "metadata": {},
   "source": [
    "### Clean data"
   ]
  },
  {
   "cell_type": "code",
   "execution_count": 157,
   "id": "0fc7e674",
   "metadata": {},
   "outputs": [],
   "source": [
    "cleaner = TextCleaner(df['comment'])"
   ]
  },
  {
   "cell_type": "code",
   "execution_count": 158,
   "id": "5b69f0f3",
   "metadata": {},
   "outputs": [
    {
     "name": "stderr",
     "output_type": "stream",
     "text": [
      "2025-07-19 03:06:57,489 - src.text_cleaning - INFO - Converting text to lowercase\n",
      "2025-07-19 03:06:57,564 - src.text_cleaning - INFO - Text converted to lowercase successfully\n",
      "2025-07-19 03:06:57,565 - src.text_cleaning - INFO - Removing unwanted characters\n",
      "2025-07-19 03:06:58,307 - src.text_cleaning - INFO - Unwanted characters removed successfully\n",
      "2025-07-19 03:06:58,310 - src.text_cleaning - INFO - Removing URLs from text\n",
      "2025-07-19 03:06:58,446 - src.text_cleaning - INFO - URLs removed successfully\n",
      "2025-07-19 03:06:58,448 - src.text_cleaning - INFO - Removing punctuation from text\n",
      "2025-07-19 03:06:58,686 - src.text_cleaning - INFO - Punctuation removed successfully\n",
      "2025-07-19 03:06:58,688 - src.text_cleaning - INFO - Removing stop words from text (language: spanish)\n",
      "2025-07-19 03:06:59,321 - src.text_cleaning - INFO - Stop words removed successfully\n",
      "2025-07-19 03:06:59,323 - src.text_cleaning - INFO - Stripping whitespace from text\n",
      "2025-07-19 03:06:59,340 - src.text_cleaning - INFO - Whitespace stripped successfully\n"
     ]
    }
   ],
   "source": [
    "cleaner.to_lowercase()\n",
    "cleaner.remove_unwanted_chars()\n",
    "cleaner.remove_url()\n",
    "cleaner.remove_punctuation()\n",
    "cleaner.remove_stop_words()\n",
    "cleaner.to_strip()"
   ]
  },
  {
   "cell_type": "code",
   "execution_count": 159,
   "id": "80e69d70",
   "metadata": {},
   "outputs": [
    {
     "name": "stderr",
     "output_type": "stream",
     "text": [
      "2025-07-19 03:06:59,359 - src.text_cleaning - INFO - Returning cleaned text\n"
     ]
    }
   ],
   "source": [
    "df['comment'] = cleaner.get_cleaned_text()"
   ]
  },
  {
   "cell_type": "markdown",
   "id": "ac61cf30",
   "metadata": {},
   "source": [
    "### Emojis Interpretation"
   ]
  },
  {
   "cell_type": "code",
   "execution_count": 160,
   "id": "95fccfda",
   "metadata": {},
   "outputs": [],
   "source": [
    "list_emojis = df['comment'].apply(emoji.emoji_list).apply(lambda x: [emoji['emoji'] for emoji in x if emoji['emoji'] not in ['\\U0001F3FB', '\\U0001F3FC', '\\U0001F3FD', '\\U0001F3FE', '\\U0001F3FF']])"
   ]
  },
  {
   "cell_type": "code",
   "execution_count": 161,
   "id": "ea061ebd",
   "metadata": {},
   "outputs": [
    {
     "name": "stdout",
     "output_type": "stream",
     "text": [
      "Total emojis: 7881\n"
     ]
    }
   ],
   "source": [
    "total_emojis = np.hstack(list_emojis)\n",
    "print(f'Total emojis: {len(total_emojis)}')"
   ]
  },
  {
   "cell_type": "code",
   "execution_count": 162,
   "id": "5a4fc3bb",
   "metadata": {},
   "outputs": [
    {
     "name": "stdout",
     "output_type": "stream",
     "text": [
      "Unique emojis: 374\n"
     ]
    }
   ],
   "source": [
    "unique_emojis = set(total_emojis)\n",
    "print(f'Unique emojis: {len(unique_emojis)}')"
   ]
  },
  {
   "cell_type": "code",
   "execution_count": 163,
   "id": "24b10e08",
   "metadata": {},
   "outputs": [],
   "source": [
    "emojis_dict = {emo : emoji.EMOJI_DATA[emo]['en'] for emo in unique_emojis}"
   ]
  },
  {
   "cell_type": "code",
   "execution_count": 164,
   "id": "bfa92aad",
   "metadata": {},
   "outputs": [],
   "source": [
    "import json\n",
    "with open('../data/emojis.json', 'w', encoding='utf-8') as f:\n",
    "    json.dump(emojis_dict, f, ensure_ascii=False, indent=4)"
   ]
  },
  {
   "cell_type": "markdown",
   "id": "e4ca5639",
   "metadata": {},
   "source": [
    "> The interpretation of the emojis in this context (the death of an ex-president) is provided by GitHub Copilot in Spanish."
   ]
  },
  {
   "cell_type": "markdown",
   "id": "59d7ee40",
   "metadata": {},
   "source": [
    "### Emojis Conversion"
   ]
  },
  {
   "cell_type": "code",
   "execution_count": 165,
   "id": "5e5009b4",
   "metadata": {},
   "outputs": [],
   "source": [
    "with open('../data/emojis_interpretation.json', 'r', encoding='utf-8') as f:\n",
    "    emojis_dict = json.load(f)"
   ]
  },
  {
   "cell_type": "code",
   "execution_count": null,
   "id": "4b5298df",
   "metadata": {},
   "outputs": [
    {
     "name": "stderr",
     "output_type": "stream",
     "text": [
      "2025-07-19 03:07:06,265 - src.text_cleaning - INFO - Replacing emojis in text\n",
      "2025-07-19 03:07:11,800 - src.text_cleaning - INFO - Emojis replaced successfully\n"
     ]
    }
   ],
   "source": [
    "emojconv = EmojiConversion(emojis_dict, df['comment'])\n",
    "emojconv.replace_emoji()\n",
    "df['comment'] = emojconv.get_text()"
   ]
  },
  {
   "cell_type": "code",
   "execution_count": 194,
   "id": "e22cb38a",
   "metadata": {},
   "outputs": [],
   "source": [
    "df = df[df['comment'].str.split().str.len()!=0].reset_index(drop=True)"
   ]
  },
  {
   "cell_type": "markdown",
   "id": "8b76857f",
   "metadata": {},
   "source": [
    "### Sentiment Analysis"
   ]
  },
  {
   "cell_type": "code",
   "execution_count": 212,
   "id": "483aa47b",
   "metadata": {},
   "outputs": [],
   "source": [
    "lexicon = pd.read_csv('../data/espaniol_NRC.csv', index_col='Spanish Word')\n",
    "lexicon.drop(columns=['anticipacion','positivo','confianza','negativo'], inplace=True)"
   ]
  },
  {
   "cell_type": "code",
   "execution_count": null,
   "id": "5f56c8cd",
   "metadata": {},
   "outputs": [
    {
     "name": "stderr",
     "output_type": "stream",
     "text": [
      "2025-07-19 03:35:08,385 - src.text_processing - INFO - Getting feelings from text\n",
      "2025-07-19 03:35:34,518 - src.text_processing - INFO - Feelings calculated successfully\n",
      "2025-07-19 03:35:34,520 - src.text_processing - INFO - Returning feelings from text\n",
      "2025-07-19 03:35:34,521 - src.text_processing - INFO - Getting feelings from text\n",
      "2025-07-19 03:36:01,464 - src.text_processing - INFO - Feelings calculated successfully\n"
     ]
    }
   ],
   "source": [
    "sentiment_analyzer = SentimentAnalysis(lexicon, df['comment'])\n",
    "sentiment_analyzer.process_feelings()\n",
    "df['feelings'] = sentiment_analyzer.get_feelings()"
   ]
  },
  {
   "cell_type": "markdown",
   "id": "fef02c0f",
   "metadata": {},
   "source": [
    "### Export the dataset"
   ]
  },
  {
   "cell_type": "code",
   "execution_count": 219,
   "id": "87bf3d17",
   "metadata": {},
   "outputs": [],
   "source": [
    "df.to_csv('../data/processed/data_with_feelings.csv', index=False, encoding='utf-8')"
   ]
  },
  {
   "cell_type": "code",
   "execution_count": 217,
   "id": "94aa8d19",
   "metadata": {},
   "outputs": [
    {
     "data": {
      "text/html": [
       "<div>\n",
       "<style scoped>\n",
       "    .dataframe tbody tr th:only-of-type {\n",
       "        vertical-align: middle;\n",
       "    }\n",
       "\n",
       "    .dataframe tbody tr th {\n",
       "        vertical-align: top;\n",
       "    }\n",
       "\n",
       "    .dataframe thead th {\n",
       "        text-align: right;\n",
       "    }\n",
       "</style>\n",
       "<table border=\"1\" class=\"dataframe\">\n",
       "  <thead>\n",
       "    <tr style=\"text-align: right;\">\n",
       "      <th></th>\n",
       "      <th>post</th>\n",
       "      <th>comment</th>\n",
       "      <th>datetime</th>\n",
       "      <th>context</th>\n",
       "      <th>feelings</th>\n",
       "    </tr>\n",
       "  </thead>\n",
       "  <tbody>\n",
       "    <tr>\n",
       "      <th>0</th>\n",
       "      <td>Velorio del ex presidente Alan García en la Ca...</td>\n",
       "      <td>análisis análisis</td>\n",
       "      <td>19/04/2019 9:16</td>\n",
       "      <td>Lectura de Carta de AG</td>\n",
       "      <td>neutral</td>\n",
       "    </tr>\n",
       "    <tr>\n",
       "      <th>1</th>\n",
       "      <td>Exequias del ex presidente Alan García en \"La ...</td>\n",
       "      <td>súplica súplica súplica súplica súplica súpli...</td>\n",
       "      <td>18/04/2019 20:57</td>\n",
       "      <td>Velatorio Casa del Pueblo</td>\n",
       "      <td>neutral</td>\n",
       "    </tr>\n",
       "    <tr>\n",
       "      <th>2</th>\n",
       "      <td>🚨 Estamos en los exteriores del Hospital de Em...</td>\n",
       "      <td>fiesta</td>\n",
       "      <td>17/04/2019 7:37</td>\n",
       "      <td>Traslado a la Clinica</td>\n",
       "      <td>alegria</td>\n",
       "    </tr>\n",
       "    <tr>\n",
       "      <th>3</th>\n",
       "      <td>Velorio del ex presidente Alan García en la Ca...</td>\n",
       "      <td>‍♀️‍♀️‍♀️ indiferencia indiferencia indiferencia</td>\n",
       "      <td>19/04/2019 9:16</td>\n",
       "      <td>Lectura de Carta de AG</td>\n",
       "      <td>ira</td>\n",
       "    </tr>\n",
       "    <tr>\n",
       "      <th>4</th>\n",
       "      <td>Velorio del ex presidente Alan García en la Ca...</td>\n",
       "      <td>shock shock shock shock</td>\n",
       "      <td>19/04/2019 9:16</td>\n",
       "      <td>Lectura de Carta de AG</td>\n",
       "      <td>sorpresa</td>\n",
       "    </tr>\n",
       "  </tbody>\n",
       "</table>\n",
       "</div>"
      ],
      "text/plain": [
       "                                                post  \\\n",
       "0  Velorio del ex presidente Alan García en la Ca...   \n",
       "1  Exequias del ex presidente Alan García en \"La ...   \n",
       "2  🚨 Estamos en los exteriores del Hospital de Em...   \n",
       "3  Velorio del ex presidente Alan García en la Ca...   \n",
       "4  Velorio del ex presidente Alan García en la Ca...   \n",
       "\n",
       "                                             comment          datetime  \\\n",
       "0                                  análisis análisis   19/04/2019 9:16   \n",
       "1   súplica súplica súplica súplica súplica súpli...  18/04/2019 20:57   \n",
       "2                                             fiesta   17/04/2019 7:37   \n",
       "3   ‍♀️‍♀️‍♀️ indiferencia indiferencia indiferencia   19/04/2019 9:16   \n",
       "4                            shock shock shock shock   19/04/2019 9:16   \n",
       "\n",
       "                     context  feelings  \n",
       "0     Lectura de Carta de AG   neutral  \n",
       "1  Velatorio Casa del Pueblo   neutral  \n",
       "2      Traslado a la Clinica   alegria  \n",
       "3     Lectura de Carta de AG       ira  \n",
       "4     Lectura de Carta de AG  sorpresa  "
      ]
     },
     "execution_count": 217,
     "metadata": {},
     "output_type": "execute_result"
    }
   ],
   "source": [
    "df.head(5)"
   ]
  }
 ],
 "metadata": {
  "kernelspec": {
   "display_name": ".venv",
   "language": "python",
   "name": "python3"
  },
  "language_info": {
   "codemirror_mode": {
    "name": "ipython",
    "version": 3
   },
   "file_extension": ".py",
   "mimetype": "text/x-python",
   "name": "python",
   "nbconvert_exporter": "python",
   "pygments_lexer": "ipython3",
   "version": "3.10.0"
  }
 },
 "nbformat": 4,
 "nbformat_minor": 5
}
