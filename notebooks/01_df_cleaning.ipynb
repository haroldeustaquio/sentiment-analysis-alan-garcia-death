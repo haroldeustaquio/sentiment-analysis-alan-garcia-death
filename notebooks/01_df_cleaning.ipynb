{
 "cells": [
  {
   "cell_type": "markdown",
   "id": "ee2b1505",
   "metadata": {},
   "source": [
    "### Loading libraries"
   ]
  },
  {
   "cell_type": "code",
   "execution_count": 57,
   "id": "a4fc2ff9",
   "metadata": {},
   "outputs": [],
   "source": [
    "import pandas as pd"
   ]
  },
  {
   "cell_type": "markdown",
   "id": "825623ee",
   "metadata": {},
   "source": [
    "### Loading data"
   ]
  },
  {
   "cell_type": "code",
   "execution_count": 58,
   "id": "3451ea33",
   "metadata": {},
   "outputs": [],
   "source": [
    "df_1 = pd.read_csv('../data/original/db_AGP_2019_sucesos.csv', encoding='utf-8')\n",
    "df_2 = pd.read_csv('../data/original/postID_suceso.csv', encoding='utf-8')"
   ]
  },
  {
   "cell_type": "code",
   "execution_count": 59,
   "id": "4c157a28",
   "metadata": {},
   "outputs": [
    {
     "data": {
      "text/html": [
       "<div>\n",
       "<style scoped>\n",
       "    .dataframe tbody tr th:only-of-type {\n",
       "        vertical-align: middle;\n",
       "    }\n",
       "\n",
       "    .dataframe tbody tr th {\n",
       "        vertical-align: top;\n",
       "    }\n",
       "\n",
       "    .dataframe thead th {\n",
       "        text-align: right;\n",
       "    }\n",
       "</style>\n",
       "<table border=\"1\" class=\"dataframe\">\n",
       "  <thead>\n",
       "    <tr style=\"text-align: right;\">\n",
       "      <th></th>\n",
       "      <th>created_time.1</th>\n",
       "      <th>created_time.2</th>\n",
       "      <th>message</th>\n",
       "      <th>id</th>\n",
       "      <th>object_link.connections.comments.message</th>\n",
       "      <th>FECHA Y HORA</th>\n",
       "    </tr>\n",
       "  </thead>\n",
       "  <tbody>\n",
       "    <tr>\n",
       "      <th>0</th>\n",
       "      <td>viernes, 19 de abril de 2019</td>\n",
       "      <td>30/12/1899 09:16:15</td>\n",
       "      <td>Velorio del ex presidente Alan García en la Ca...</td>\n",
       "      <td>71263708835_377868469727477</td>\n",
       "      <td>🧐🧐</td>\n",
       "      <td>19/04/2019 9:16</td>\n",
       "    </tr>\n",
       "    <tr>\n",
       "      <th>1</th>\n",
       "      <td>jueves, 18 de abril de 2019</td>\n",
       "      <td>30/12/1899 20:57:16</td>\n",
       "      <td>Exequias del ex presidente Alan García en \"La ...</td>\n",
       "      <td>71263708835_276236269920595</td>\n",
       "      <td>🥺🥺🥺🥺🥺🥺🥺🥺</td>\n",
       "      <td>18/04/2019 20:57</td>\n",
       "    </tr>\n",
       "    <tr>\n",
       "      <th>2</th>\n",
       "      <td>miércoles, 17 de abril de 2019</td>\n",
       "      <td>30/12/1899 07:37:30</td>\n",
       "      <td>🚨 Estamos en los exteriores del Hospital de Em...</td>\n",
       "      <td>71263708835_310239669653341</td>\n",
       "      <td>🥳</td>\n",
       "      <td>17/04/2019 7:37</td>\n",
       "    </tr>\n",
       "    <tr>\n",
       "      <th>3</th>\n",
       "      <td>viernes, 19 de abril de 2019</td>\n",
       "      <td>30/12/1899 09:16:15</td>\n",
       "      <td>Velorio del ex presidente Alan García en la Ca...</td>\n",
       "      <td>71263708835_377868469727477</td>\n",
       "      <td>🤷‍♀️🤷‍♀️🤷‍♀️</td>\n",
       "      <td>19/04/2019 9:16</td>\n",
       "    </tr>\n",
       "    <tr>\n",
       "      <th>4</th>\n",
       "      <td>viernes, 19 de abril de 2019</td>\n",
       "      <td>30/12/1899 09:16:15</td>\n",
       "      <td>Velorio del ex presidente Alan García en la Ca...</td>\n",
       "      <td>71263708835_377868469727477</td>\n",
       "      <td>🤯🤯🤯🤯</td>\n",
       "      <td>19/04/2019 9:16</td>\n",
       "    </tr>\n",
       "  </tbody>\n",
       "</table>\n",
       "</div>"
      ],
      "text/plain": [
       "                   created_time.1       created_time.2  \\\n",
       "0    viernes, 19 de abril de 2019  30/12/1899 09:16:15   \n",
       "1     jueves, 18 de abril de 2019  30/12/1899 20:57:16   \n",
       "2  miércoles, 17 de abril de 2019  30/12/1899 07:37:30   \n",
       "3    viernes, 19 de abril de 2019  30/12/1899 09:16:15   \n",
       "4    viernes, 19 de abril de 2019  30/12/1899 09:16:15   \n",
       "\n",
       "                                             message  \\\n",
       "0  Velorio del ex presidente Alan García en la Ca...   \n",
       "1  Exequias del ex presidente Alan García en \"La ...   \n",
       "2  🚨 Estamos en los exteriores del Hospital de Em...   \n",
       "3  Velorio del ex presidente Alan García en la Ca...   \n",
       "4  Velorio del ex presidente Alan García en la Ca...   \n",
       "\n",
       "                            id object_link.connections.comments.message  \\\n",
       "0  71263708835_377868469727477                                       🧐🧐   \n",
       "1  71263708835_276236269920595                                 🥺🥺🥺🥺🥺🥺🥺🥺   \n",
       "2  71263708835_310239669653341                                        🥳   \n",
       "3  71263708835_377868469727477                             🤷‍♀️🤷‍♀️🤷‍♀️   \n",
       "4  71263708835_377868469727477                                     🤯🤯🤯🤯   \n",
       "\n",
       "       FECHA Y HORA  \n",
       "0   19/04/2019 9:16  \n",
       "1  18/04/2019 20:57  \n",
       "2   17/04/2019 7:37  \n",
       "3   19/04/2019 9:16  \n",
       "4   19/04/2019 9:16  "
      ]
     },
     "execution_count": 59,
     "metadata": {},
     "output_type": "execute_result"
    }
   ],
   "source": [
    "df_1.head()"
   ]
  },
  {
   "cell_type": "code",
   "execution_count": 60,
   "id": "75df0d6d",
   "metadata": {},
   "outputs": [
    {
     "data": {
      "text/html": [
       "<div>\n",
       "<style scoped>\n",
       "    .dataframe tbody tr th:only-of-type {\n",
       "        vertical-align: middle;\n",
       "    }\n",
       "\n",
       "    .dataframe tbody tr th {\n",
       "        vertical-align: top;\n",
       "    }\n",
       "\n",
       "    .dataframe thead th {\n",
       "        text-align: right;\n",
       "    }\n",
       "</style>\n",
       "<table border=\"1\" class=\"dataframe\">\n",
       "  <thead>\n",
       "    <tr style=\"text-align: right;\">\n",
       "      <th></th>\n",
       "      <th>POST NRO</th>\n",
       "      <th>SUCESO</th>\n",
       "    </tr>\n",
       "  </thead>\n",
       "  <tbody>\n",
       "    <tr>\n",
       "      <th>0</th>\n",
       "      <td>71263708835_310239669653341</td>\n",
       "      <td>Traslado a la Clinica</td>\n",
       "    </tr>\n",
       "    <tr>\n",
       "      <th>1</th>\n",
       "      <td>71263708835_10157689377373836</td>\n",
       "      <td>Confirmación de Intento de Suicidio</td>\n",
       "    </tr>\n",
       "    <tr>\n",
       "      <th>2</th>\n",
       "      <td>71263708835_2430897753596693</td>\n",
       "      <td>Confirmación de Intento de Suicidio</td>\n",
       "    </tr>\n",
       "    <tr>\n",
       "      <th>3</th>\n",
       "      <td>71263708835_10157689601593836</td>\n",
       "      <td>Confirmación de Intento de Suicidio</td>\n",
       "    </tr>\n",
       "    <tr>\n",
       "      <th>4</th>\n",
       "      <td>71263708835_426911824739777</td>\n",
       "      <td>Confirmación de Intento de Suicidio</td>\n",
       "    </tr>\n",
       "  </tbody>\n",
       "</table>\n",
       "</div>"
      ],
      "text/plain": [
       "                        POST NRO                               SUCESO\n",
       "0    71263708835_310239669653341                Traslado a la Clinica\n",
       "1  71263708835_10157689377373836  Confirmación de Intento de Suicidio\n",
       "2   71263708835_2430897753596693  Confirmación de Intento de Suicidio\n",
       "3  71263708835_10157689601593836  Confirmación de Intento de Suicidio\n",
       "4    71263708835_426911824739777  Confirmación de Intento de Suicidio"
      ]
     },
     "execution_count": 60,
     "metadata": {},
     "output_type": "execute_result"
    }
   ],
   "source": [
    "df_2.head()"
   ]
  },
  {
   "cell_type": "code",
   "execution_count": 61,
   "id": "10199061",
   "metadata": {},
   "outputs": [],
   "source": [
    "df = df_1.merge(df_2, how = 'inner', left_on='id', right_on='POST NRO')"
   ]
  },
  {
   "cell_type": "code",
   "execution_count": 62,
   "id": "f1633fea",
   "metadata": {},
   "outputs": [
    {
     "data": {
      "text/html": [
       "<div>\n",
       "<style scoped>\n",
       "    .dataframe tbody tr th:only-of-type {\n",
       "        vertical-align: middle;\n",
       "    }\n",
       "\n",
       "    .dataframe tbody tr th {\n",
       "        vertical-align: top;\n",
       "    }\n",
       "\n",
       "    .dataframe thead th {\n",
       "        text-align: right;\n",
       "    }\n",
       "</style>\n",
       "<table border=\"1\" class=\"dataframe\">\n",
       "  <thead>\n",
       "    <tr style=\"text-align: right;\">\n",
       "      <th></th>\n",
       "      <th>created_time.1</th>\n",
       "      <th>created_time.2</th>\n",
       "      <th>message</th>\n",
       "      <th>id</th>\n",
       "      <th>object_link.connections.comments.message</th>\n",
       "      <th>FECHA Y HORA</th>\n",
       "      <th>POST NRO</th>\n",
       "      <th>SUCESO</th>\n",
       "    </tr>\n",
       "  </thead>\n",
       "  <tbody>\n",
       "    <tr>\n",
       "      <th>0</th>\n",
       "      <td>viernes, 19 de abril de 2019</td>\n",
       "      <td>30/12/1899 09:16:15</td>\n",
       "      <td>Velorio del ex presidente Alan García en la Ca...</td>\n",
       "      <td>71263708835_377868469727477</td>\n",
       "      <td>🧐🧐</td>\n",
       "      <td>19/04/2019 9:16</td>\n",
       "      <td>71263708835_377868469727477</td>\n",
       "      <td>Lectura de Carta de AG</td>\n",
       "    </tr>\n",
       "    <tr>\n",
       "      <th>1</th>\n",
       "      <td>jueves, 18 de abril de 2019</td>\n",
       "      <td>30/12/1899 20:57:16</td>\n",
       "      <td>Exequias del ex presidente Alan García en \"La ...</td>\n",
       "      <td>71263708835_276236269920595</td>\n",
       "      <td>🥺🥺🥺🥺🥺🥺🥺🥺</td>\n",
       "      <td>18/04/2019 20:57</td>\n",
       "      <td>71263708835_276236269920595</td>\n",
       "      <td>Velatorio Casa del Pueblo</td>\n",
       "    </tr>\n",
       "    <tr>\n",
       "      <th>2</th>\n",
       "      <td>miércoles, 17 de abril de 2019</td>\n",
       "      <td>30/12/1899 07:37:30</td>\n",
       "      <td>🚨 Estamos en los exteriores del Hospital de Em...</td>\n",
       "      <td>71263708835_310239669653341</td>\n",
       "      <td>🥳</td>\n",
       "      <td>17/04/2019 7:37</td>\n",
       "      <td>71263708835_310239669653341</td>\n",
       "      <td>Traslado a la Clinica</td>\n",
       "    </tr>\n",
       "    <tr>\n",
       "      <th>3</th>\n",
       "      <td>viernes, 19 de abril de 2019</td>\n",
       "      <td>30/12/1899 09:16:15</td>\n",
       "      <td>Velorio del ex presidente Alan García en la Ca...</td>\n",
       "      <td>71263708835_377868469727477</td>\n",
       "      <td>🤷‍♀️🤷‍♀️🤷‍♀️</td>\n",
       "      <td>19/04/2019 9:16</td>\n",
       "      <td>71263708835_377868469727477</td>\n",
       "      <td>Lectura de Carta de AG</td>\n",
       "    </tr>\n",
       "    <tr>\n",
       "      <th>4</th>\n",
       "      <td>viernes, 19 de abril de 2019</td>\n",
       "      <td>30/12/1899 09:16:15</td>\n",
       "      <td>Velorio del ex presidente Alan García en la Ca...</td>\n",
       "      <td>71263708835_377868469727477</td>\n",
       "      <td>🤯🤯🤯🤯</td>\n",
       "      <td>19/04/2019 9:16</td>\n",
       "      <td>71263708835_377868469727477</td>\n",
       "      <td>Lectura de Carta de AG</td>\n",
       "    </tr>\n",
       "  </tbody>\n",
       "</table>\n",
       "</div>"
      ],
      "text/plain": [
       "                   created_time.1       created_time.2  \\\n",
       "0    viernes, 19 de abril de 2019  30/12/1899 09:16:15   \n",
       "1     jueves, 18 de abril de 2019  30/12/1899 20:57:16   \n",
       "2  miércoles, 17 de abril de 2019  30/12/1899 07:37:30   \n",
       "3    viernes, 19 de abril de 2019  30/12/1899 09:16:15   \n",
       "4    viernes, 19 de abril de 2019  30/12/1899 09:16:15   \n",
       "\n",
       "                                             message  \\\n",
       "0  Velorio del ex presidente Alan García en la Ca...   \n",
       "1  Exequias del ex presidente Alan García en \"La ...   \n",
       "2  🚨 Estamos en los exteriores del Hospital de Em...   \n",
       "3  Velorio del ex presidente Alan García en la Ca...   \n",
       "4  Velorio del ex presidente Alan García en la Ca...   \n",
       "\n",
       "                            id object_link.connections.comments.message  \\\n",
       "0  71263708835_377868469727477                                       🧐🧐   \n",
       "1  71263708835_276236269920595                                 🥺🥺🥺🥺🥺🥺🥺🥺   \n",
       "2  71263708835_310239669653341                                        🥳   \n",
       "3  71263708835_377868469727477                             🤷‍♀️🤷‍♀️🤷‍♀️   \n",
       "4  71263708835_377868469727477                                     🤯🤯🤯🤯   \n",
       "\n",
       "       FECHA Y HORA                     POST NRO                     SUCESO  \n",
       "0   19/04/2019 9:16  71263708835_377868469727477     Lectura de Carta de AG  \n",
       "1  18/04/2019 20:57  71263708835_276236269920595  Velatorio Casa del Pueblo  \n",
       "2   17/04/2019 7:37  71263708835_310239669653341      Traslado a la Clinica  \n",
       "3   19/04/2019 9:16  71263708835_377868469727477     Lectura de Carta de AG  \n",
       "4   19/04/2019 9:16  71263708835_377868469727477     Lectura de Carta de AG  "
      ]
     },
     "execution_count": 62,
     "metadata": {},
     "output_type": "execute_result"
    }
   ],
   "source": [
    "df.head()"
   ]
  },
  {
   "cell_type": "markdown",
   "id": "ac61cf30",
   "metadata": {},
   "source": [
    "### Preparing dataset"
   ]
  },
  {
   "cell_type": "code",
   "execution_count": 63,
   "id": "faeffd61",
   "metadata": {},
   "outputs": [],
   "source": [
    "df.drop(columns=['created_time.1', 'created_time.2', 'POST NRO', 'id'], inplace=True)"
   ]
  },
  {
   "cell_type": "code",
   "execution_count": 64,
   "id": "20a50ff6",
   "metadata": {},
   "outputs": [
    {
     "data": {
      "text/html": [
       "<div>\n",
       "<style scoped>\n",
       "    .dataframe tbody tr th:only-of-type {\n",
       "        vertical-align: middle;\n",
       "    }\n",
       "\n",
       "    .dataframe tbody tr th {\n",
       "        vertical-align: top;\n",
       "    }\n",
       "\n",
       "    .dataframe thead th {\n",
       "        text-align: right;\n",
       "    }\n",
       "</style>\n",
       "<table border=\"1\" class=\"dataframe\">\n",
       "  <thead>\n",
       "    <tr style=\"text-align: right;\">\n",
       "      <th></th>\n",
       "      <th>message</th>\n",
       "      <th>object_link.connections.comments.message</th>\n",
       "      <th>FECHA Y HORA</th>\n",
       "      <th>SUCESO</th>\n",
       "    </tr>\n",
       "  </thead>\n",
       "  <tbody>\n",
       "    <tr>\n",
       "      <th>0</th>\n",
       "      <td>Velorio del ex presidente Alan García en la Ca...</td>\n",
       "      <td>🧐🧐</td>\n",
       "      <td>19/04/2019 9:16</td>\n",
       "      <td>Lectura de Carta de AG</td>\n",
       "    </tr>\n",
       "    <tr>\n",
       "      <th>1</th>\n",
       "      <td>Exequias del ex presidente Alan García en \"La ...</td>\n",
       "      <td>🥺🥺🥺🥺🥺🥺🥺🥺</td>\n",
       "      <td>18/04/2019 20:57</td>\n",
       "      <td>Velatorio Casa del Pueblo</td>\n",
       "    </tr>\n",
       "    <tr>\n",
       "      <th>2</th>\n",
       "      <td>🚨 Estamos en los exteriores del Hospital de Em...</td>\n",
       "      <td>🥳</td>\n",
       "      <td>17/04/2019 7:37</td>\n",
       "      <td>Traslado a la Clinica</td>\n",
       "    </tr>\n",
       "    <tr>\n",
       "      <th>3</th>\n",
       "      <td>Velorio del ex presidente Alan García en la Ca...</td>\n",
       "      <td>🤷‍♀️🤷‍♀️🤷‍♀️</td>\n",
       "      <td>19/04/2019 9:16</td>\n",
       "      <td>Lectura de Carta de AG</td>\n",
       "    </tr>\n",
       "    <tr>\n",
       "      <th>4</th>\n",
       "      <td>Velorio del ex presidente Alan García en la Ca...</td>\n",
       "      <td>🤯🤯🤯🤯</td>\n",
       "      <td>19/04/2019 9:16</td>\n",
       "      <td>Lectura de Carta de AG</td>\n",
       "    </tr>\n",
       "  </tbody>\n",
       "</table>\n",
       "</div>"
      ],
      "text/plain": [
       "                                             message  \\\n",
       "0  Velorio del ex presidente Alan García en la Ca...   \n",
       "1  Exequias del ex presidente Alan García en \"La ...   \n",
       "2  🚨 Estamos en los exteriores del Hospital de Em...   \n",
       "3  Velorio del ex presidente Alan García en la Ca...   \n",
       "4  Velorio del ex presidente Alan García en la Ca...   \n",
       "\n",
       "  object_link.connections.comments.message      FECHA Y HORA  \\\n",
       "0                                       🧐🧐   19/04/2019 9:16   \n",
       "1                                 🥺🥺🥺🥺🥺🥺🥺🥺  18/04/2019 20:57   \n",
       "2                                        🥳   17/04/2019 7:37   \n",
       "3                             🤷‍♀️🤷‍♀️🤷‍♀️   19/04/2019 9:16   \n",
       "4                                     🤯🤯🤯🤯   19/04/2019 9:16   \n",
       "\n",
       "                      SUCESO  \n",
       "0     Lectura de Carta de AG  \n",
       "1  Velatorio Casa del Pueblo  \n",
       "2      Traslado a la Clinica  \n",
       "3     Lectura de Carta de AG  \n",
       "4     Lectura de Carta de AG  "
      ]
     },
     "execution_count": 64,
     "metadata": {},
     "output_type": "execute_result"
    }
   ],
   "source": [
    "df.head()"
   ]
  },
  {
   "cell_type": "code",
   "execution_count": 65,
   "id": "6e01b661",
   "metadata": {},
   "outputs": [],
   "source": [
    "df.columns = ['text', 'comment', 'datetime', 'context']"
   ]
  },
  {
   "cell_type": "code",
   "execution_count": 66,
   "id": "12e31496",
   "metadata": {},
   "outputs": [
    {
     "data": {
      "text/html": [
       "<div>\n",
       "<style scoped>\n",
       "    .dataframe tbody tr th:only-of-type {\n",
       "        vertical-align: middle;\n",
       "    }\n",
       "\n",
       "    .dataframe tbody tr th {\n",
       "        vertical-align: top;\n",
       "    }\n",
       "\n",
       "    .dataframe thead th {\n",
       "        text-align: right;\n",
       "    }\n",
       "</style>\n",
       "<table border=\"1\" class=\"dataframe\">\n",
       "  <thead>\n",
       "    <tr style=\"text-align: right;\">\n",
       "      <th></th>\n",
       "      <th>text</th>\n",
       "      <th>comment</th>\n",
       "      <th>datetime</th>\n",
       "      <th>context</th>\n",
       "    </tr>\n",
       "  </thead>\n",
       "  <tbody>\n",
       "    <tr>\n",
       "      <th>0</th>\n",
       "      <td>Velorio del ex presidente Alan García en la Ca...</td>\n",
       "      <td>🧐🧐</td>\n",
       "      <td>19/04/2019 9:16</td>\n",
       "      <td>Lectura de Carta de AG</td>\n",
       "    </tr>\n",
       "    <tr>\n",
       "      <th>1</th>\n",
       "      <td>Exequias del ex presidente Alan García en \"La ...</td>\n",
       "      <td>🥺🥺🥺🥺🥺🥺🥺🥺</td>\n",
       "      <td>18/04/2019 20:57</td>\n",
       "      <td>Velatorio Casa del Pueblo</td>\n",
       "    </tr>\n",
       "    <tr>\n",
       "      <th>2</th>\n",
       "      <td>🚨 Estamos en los exteriores del Hospital de Em...</td>\n",
       "      <td>🥳</td>\n",
       "      <td>17/04/2019 7:37</td>\n",
       "      <td>Traslado a la Clinica</td>\n",
       "    </tr>\n",
       "    <tr>\n",
       "      <th>3</th>\n",
       "      <td>Velorio del ex presidente Alan García en la Ca...</td>\n",
       "      <td>🤷‍♀️🤷‍♀️🤷‍♀️</td>\n",
       "      <td>19/04/2019 9:16</td>\n",
       "      <td>Lectura de Carta de AG</td>\n",
       "    </tr>\n",
       "    <tr>\n",
       "      <th>4</th>\n",
       "      <td>Velorio del ex presidente Alan García en la Ca...</td>\n",
       "      <td>🤯🤯🤯🤯</td>\n",
       "      <td>19/04/2019 9:16</td>\n",
       "      <td>Lectura de Carta de AG</td>\n",
       "    </tr>\n",
       "  </tbody>\n",
       "</table>\n",
       "</div>"
      ],
      "text/plain": [
       "                                                text       comment  \\\n",
       "0  Velorio del ex presidente Alan García en la Ca...            🧐🧐   \n",
       "1  Exequias del ex presidente Alan García en \"La ...      🥺🥺🥺🥺🥺🥺🥺🥺   \n",
       "2  🚨 Estamos en los exteriores del Hospital de Em...             🥳   \n",
       "3  Velorio del ex presidente Alan García en la Ca...  🤷‍♀️🤷‍♀️🤷‍♀️   \n",
       "4  Velorio del ex presidente Alan García en la Ca...          🤯🤯🤯🤯   \n",
       "\n",
       "           datetime                    context  \n",
       "0   19/04/2019 9:16     Lectura de Carta de AG  \n",
       "1  18/04/2019 20:57  Velatorio Casa del Pueblo  \n",
       "2   17/04/2019 7:37      Traslado a la Clinica  \n",
       "3   19/04/2019 9:16     Lectura de Carta de AG  \n",
       "4   19/04/2019 9:16     Lectura de Carta de AG  "
      ]
     },
     "execution_count": 66,
     "metadata": {},
     "output_type": "execute_result"
    }
   ],
   "source": [
    "df.head()"
   ]
  },
  {
   "cell_type": "code",
   "execution_count": 67,
   "id": "42832d14",
   "metadata": {},
   "outputs": [],
   "source": [
    "df['datetime'] = pd.to_datetime(df['datetime'], format='%d/%m/%Y %H:%M')"
   ]
  },
  {
   "cell_type": "code",
   "execution_count": 68,
   "id": "7156c3dd",
   "metadata": {},
   "outputs": [
    {
     "name": "stdout",
     "output_type": "stream",
     "text": [
      "<class 'pandas.core.frame.DataFrame'>\n",
      "RangeIndex: 55006 entries, 0 to 55005\n",
      "Data columns (total 4 columns):\n",
      " #   Column    Non-Null Count  Dtype         \n",
      "---  ------    --------------  -----         \n",
      " 0   text      55006 non-null  object        \n",
      " 1   comment   55006 non-null  object        \n",
      " 2   datetime  55006 non-null  datetime64[ns]\n",
      " 3   context   55006 non-null  object        \n",
      "dtypes: datetime64[ns](1), object(3)\n",
      "memory usage: 1.7+ MB\n"
     ]
    }
   ],
   "source": [
    "df.info()"
   ]
  },
  {
   "cell_type": "markdown",
   "id": "ea0c533b",
   "metadata": {},
   "source": [
    "### Nan and duplicated rows"
   ]
  },
  {
   "cell_type": "code",
   "execution_count": 69,
   "id": "ee6d4b98",
   "metadata": {},
   "outputs": [
    {
     "data": {
      "text/plain": [
       "text        0\n",
       "comment     0\n",
       "datetime    0\n",
       "context     0\n",
       "dtype: int64"
      ]
     },
     "execution_count": 69,
     "metadata": {},
     "output_type": "execute_result"
    }
   ],
   "source": [
    "df.isna().sum()"
   ]
  },
  {
   "cell_type": "code",
   "execution_count": 70,
   "id": "156fb047",
   "metadata": {},
   "outputs": [
    {
     "data": {
      "text/plain": [
       "1444"
      ]
     },
     "execution_count": 70,
     "metadata": {},
     "output_type": "execute_result"
    }
   ],
   "source": [
    "df.duplicated().sum()"
   ]
  },
  {
   "cell_type": "code",
   "execution_count": 71,
   "id": "c18cff51",
   "metadata": {},
   "outputs": [],
   "source": [
    "df.drop_duplicates(inplace=True)"
   ]
  },
  {
   "cell_type": "code",
   "execution_count": 72,
   "id": "f185fe16",
   "metadata": {},
   "outputs": [],
   "source": [
    "df = df[['datetime', 'text', 'context', 'comment']]"
   ]
  },
  {
   "cell_type": "code",
   "execution_count": 73,
   "id": "c38bc4a3",
   "metadata": {},
   "outputs": [],
   "source": [
    "df.reset_index(drop=True, inplace=True)"
   ]
  },
  {
   "cell_type": "code",
   "execution_count": 74,
   "id": "051449a8",
   "metadata": {},
   "outputs": [
    {
     "name": "stdout",
     "output_type": "stream",
     "text": [
      "<class 'pandas.core.frame.DataFrame'>\n",
      "RangeIndex: 53562 entries, 0 to 53561\n",
      "Data columns (total 4 columns):\n",
      " #   Column    Non-Null Count  Dtype         \n",
      "---  ------    --------------  -----         \n",
      " 0   datetime  53562 non-null  datetime64[ns]\n",
      " 1   text      53562 non-null  object        \n",
      " 2   context   53562 non-null  object        \n",
      " 3   comment   53562 non-null  object        \n",
      "dtypes: datetime64[ns](1), object(3)\n",
      "memory usage: 1.6+ MB\n"
     ]
    }
   ],
   "source": [
    "df.info()"
   ]
  },
  {
   "cell_type": "markdown",
   "id": "21da1ad0",
   "metadata": {},
   "source": [
    "### Export the cleaned data"
   ]
  },
  {
   "cell_type": "code",
   "execution_count": null,
   "id": "8080d3e4",
   "metadata": {},
   "outputs": [],
   "source": [
    "df.to_csv(\"../data/processed/data_cleaned.csv\", index=False, encoding='utf-8')"
   ]
  },
  {
   "cell_type": "code",
   "execution_count": 77,
   "id": "a3ecb359",
   "metadata": {},
   "outputs": [
    {
     "data": {
      "text/html": [
       "<div>\n",
       "<style scoped>\n",
       "    .dataframe tbody tr th:only-of-type {\n",
       "        vertical-align: middle;\n",
       "    }\n",
       "\n",
       "    .dataframe tbody tr th {\n",
       "        vertical-align: top;\n",
       "    }\n",
       "\n",
       "    .dataframe thead th {\n",
       "        text-align: right;\n",
       "    }\n",
       "</style>\n",
       "<table border=\"1\" class=\"dataframe\">\n",
       "  <thead>\n",
       "    <tr style=\"text-align: right;\">\n",
       "      <th></th>\n",
       "      <th>datetime</th>\n",
       "      <th>text</th>\n",
       "      <th>context</th>\n",
       "      <th>comment</th>\n",
       "    </tr>\n",
       "  </thead>\n",
       "  <tbody>\n",
       "    <tr>\n",
       "      <th>0</th>\n",
       "      <td>2019-04-19 09:16:00</td>\n",
       "      <td>Velorio del ex presidente Alan García en la Ca...</td>\n",
       "      <td>Lectura de Carta de AG</td>\n",
       "      <td>🧐🧐</td>\n",
       "    </tr>\n",
       "    <tr>\n",
       "      <th>1</th>\n",
       "      <td>2019-04-18 20:57:00</td>\n",
       "      <td>Exequias del ex presidente Alan García en \"La ...</td>\n",
       "      <td>Velatorio Casa del Pueblo</td>\n",
       "      <td>🥺🥺🥺🥺🥺🥺🥺🥺</td>\n",
       "    </tr>\n",
       "    <tr>\n",
       "      <th>2</th>\n",
       "      <td>2019-04-17 07:37:00</td>\n",
       "      <td>🚨 Estamos en los exteriores del Hospital de Em...</td>\n",
       "      <td>Traslado a la Clinica</td>\n",
       "      <td>🥳</td>\n",
       "    </tr>\n",
       "    <tr>\n",
       "      <th>3</th>\n",
       "      <td>2019-04-19 09:16:00</td>\n",
       "      <td>Velorio del ex presidente Alan García en la Ca...</td>\n",
       "      <td>Lectura de Carta de AG</td>\n",
       "      <td>🤷‍♀️🤷‍♀️🤷‍♀️</td>\n",
       "    </tr>\n",
       "    <tr>\n",
       "      <th>4</th>\n",
       "      <td>2019-04-19 09:16:00</td>\n",
       "      <td>Velorio del ex presidente Alan García en la Ca...</td>\n",
       "      <td>Lectura de Carta de AG</td>\n",
       "      <td>🤯🤯🤯🤯</td>\n",
       "    </tr>\n",
       "  </tbody>\n",
       "</table>\n",
       "</div>"
      ],
      "text/plain": [
       "             datetime                                               text  \\\n",
       "0 2019-04-19 09:16:00  Velorio del ex presidente Alan García en la Ca...   \n",
       "1 2019-04-18 20:57:00  Exequias del ex presidente Alan García en \"La ...   \n",
       "2 2019-04-17 07:37:00  🚨 Estamos en los exteriores del Hospital de Em...   \n",
       "3 2019-04-19 09:16:00  Velorio del ex presidente Alan García en la Ca...   \n",
       "4 2019-04-19 09:16:00  Velorio del ex presidente Alan García en la Ca...   \n",
       "\n",
       "                     context       comment  \n",
       "0     Lectura de Carta de AG            🧐🧐  \n",
       "1  Velatorio Casa del Pueblo      🥺🥺🥺🥺🥺🥺🥺🥺  \n",
       "2      Traslado a la Clinica             🥳  \n",
       "3     Lectura de Carta de AG  🤷‍♀️🤷‍♀️🤷‍♀️  \n",
       "4     Lectura de Carta de AG          🤯🤯🤯🤯  "
      ]
     },
     "execution_count": 77,
     "metadata": {},
     "output_type": "execute_result"
    }
   ],
   "source": [
    "df.head()"
   ]
  }
 ],
 "metadata": {
  "kernelspec": {
   "display_name": ".venv",
   "language": "python",
   "name": "python3"
  },
  "language_info": {
   "codemirror_mode": {
    "name": "ipython",
    "version": 3
   },
   "file_extension": ".py",
   "mimetype": "text/x-python",
   "name": "python",
   "nbconvert_exporter": "python",
   "pygments_lexer": "ipython3",
   "version": "3.10.0"
  }
 },
 "nbformat": 4,
 "nbformat_minor": 5
}
